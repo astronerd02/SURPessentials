{
 "cells": [
  {
   "cell_type": "code",
   "execution_count": 2,
   "metadata": {},
   "outputs": [],
   "source": [
    "from astropy.io import fits\n",
    "from astropy.wcs import WCS\n",
    "import astropy.units as u\n",
    "import numpy as np\n",
    "import matplotlib as mpl\n",
    "import matplotlib.pyplot as plt\n",
    "import scipy.ndimage\n",
    "import spectral_cube\n",
    "import sys as os\n",
    "import SpectralCubeTools"
   ]
  },
  {
   "cell_type": "code",
   "execution_count": 3,
   "metadata": {},
   "outputs": [
    {
     "name": "stdout",
     "output_type": "stream",
     "text": [
      "SIMPLE  =                    T /Standard FITS                                   BITPIX  =                  -32 /Floating point (32 bit)                         NAXIS   =                    3                                                  NAXIS1  =                 1400                                                  NAXIS2  =                  900                                                  NAXIS3  =                  160                                                  EXTEND  =                    T                                                  BSCALE  =   1.000000000000E+00 /PHYSICAL = PIXEL*BSCALE + BZERO                 BZERO   =   0.000000000000E+00                                                  BMAJ    =   5.783461938585E-04                                                  BMIN    =   4.594276793522E-04                                                  BPA     =   5.116065467813E+01                                                  BTYPE   = 'Intensity'                                                           OBJECT  = 'M82     '                                                            BUNIT   = 'Jy/beam '           /Brightness (pixel) unit                         EQUINOX =   2.000000000000E+03                                                  RADESYS = 'FK5     '                                                            LONPOLE =   1.800000000000E+02                                                  LATPOLE =   6.968525000000E+01                                                  PC1_1   =   1.000000000000E+00                                                  PC2_1   =  -0.000000000000E+00                                                  PC3_1   =   0.000000000000E+00                                                  PC1_2   =   0.000000000000E+00                                                  PC2_2   =   1.000000000000E+00                                                  PC3_2   =   0.000000000000E+00                                                  PC1_3   =   0.000000000000E+00                                                  PC2_3   =   0.000000000000E+00                                                  PC3_3   =   1.000000000000E+00                                                  CTYPE1  = 'RA---ARC'                                                            CRVAL1  =   1.489684583333E+02                                                  CDELT1  =  -1.111111179511E-04                                                  CRPIX1  =   7.010000000000E+02                                                  CUNIT1  = 'deg     '                                                            CTYPE2  = 'DEC--ARC'                                                            CRVAL2  =   6.968525000000E+01                                                  CDELT2  =   1.111111179511E-04                                                  CRPIX2  =   4.510000000000E+02                                                  CUNIT2  = 'deg     '                                                            CTYPE3  = 'VRAD    '                                                            CRVAL3  =   2.100000000000E+05                                                  CDELT3  =   4.999999999971E+03                                                  CRPIX3  =   8.000000000000E+01                                                  CUNIT3  = 'm/s     '                                                            RESTFRQ =   1.152712031250E+11 /Rest Frequency (Hz)                             SPECSYS = 'LSRK    '           /Spectral reference frame                        ALTRVAL =   1.151904574224E+11                                                  ALTRPIX =   8.000000000000E+01                                                  VELREF  =                  257 /1 LSR, 2 HEL, 3 OBS, +256 Radio                 COMMENT casacore non-standard usage: 4 LSD, 5 GEO, 6 SOU, 7 GAL                 TELESCOP= 'NOEMA   '                                                            OBSGEO-X=   4.523932576978E+06                                                  OBSGEO-Y=   4.681347327874E+05                                                  OBSGEO-Z=   4.460286496419E+06                                                  RA      =   1.489684583333E+02                                                  DEC     =   6.968525000000E+01                                                  LINE    = 'CO      '                                                            VELO-LSR=   2.100000000000E+05                                                  DATE    = '2023-05-13T21:20:01.387511' /Date FITS file was written              TIMESYS = 'UTC     '           /Time system for HDU                             ORIGIN  = 'CASA 5.6.1-8'                                                        HISTORY CASA START LOGTABLE                                                     HISTORY 2020-12-17T09:40:38 INFO SRCCODE='::importfits'                         HISTORY version: 5.6.1-8    Mon 2019/09/16 14:59:33 UTC                         HISTORY 2020-12-17T09:40:38 INFO SRCCODE='::importfits'                         HISTORY importfits(fitsimage=\"M82-NOEMA-mask.clean.fits\", imagename=\"M82-NOEMA-mHISTORY >ask.clean.image\", whichrep=0, whichhdu=-1, zeroblanks=True, overwrite=THISTORY >ue, defaultaxes=False, defaultaxesvalues=[], beam=[])                  HISTORY 2020-12-17T09:40:38 INFO SRCCODE='::ImageMetaDataRW::set'               HISTORY Modified TELESCOPE from \"UNKNOWN\" to \"NOEMA\"                            HISTORY 2020-12-17T09:40:38 INFO SRCCODE='::imhead'                             HISTORY version: 5.6.1-8    Mon 2019/09/16 14:59:33 UTC                         HISTORY 2020-12-17T09:40:38 INFO SRCCODE='::imhead'                             HISTORY imhead(imagename=\"M82-NOEMA-mask.clean.image\", mode=\"put\", hdkey=\"TELESCHISTORY >OPE\", hdvalue=\"NOEMA\", verbose=False)                                  HISTORY CASA END LOGTABLE                                                       END                                                                                                                                                                                                                                                                                                                                                                                                                                                                                                                                                                                                                                                                                                                                                                                                                                                                                                                                                                                                                                                                                                                                                                                                                                                                                                                                                                                                                                                                                                                                                                                                                                                                                                                                                                                                                                                                                                                                                                                                                                                                                                                                                                                                                                                                                                                                                                                                                                                                                                                                                                                                                                                                                                                                             \n",
      "WCS Keywords\n",
      "\n",
      "Number of WCS axes: 3\n",
      "CTYPE : 'RA---ARC' 'DEC--ARC' 'VRAD' \n",
      "CRVAL : 148.9684583333 69.68525 210000.0 \n",
      "CRPIX : 701.0 451.0 80.0 \n",
      "PC1_1 PC1_2 PC1_3  : 1.0 0.0 0.0 \n",
      "PC2_1 PC2_2 PC2_3  : -0.0 1.0 0.0 \n",
      "PC3_1 PC3_2 PC3_3  : 0.0 0.0 1.0 \n",
      "CDELT : -0.0001111111179511 0.0001111111179511 4999.999999971 \n",
      "NAXIS : 1400  900  160\n",
      "6.169081e-05\n"
     ]
    }
   ],
   "source": [
    "COFits = fits.open(\"./DataFiles/M82-NOEMA-mask.clean.image.fits\")\n",
    "head = COFits[0].header\n",
    "print(head)\n",
    "imdata = COFits[0].data\n",
    "bmajD = head[\"BMAJ\"]\n",
    "bminD = head[\"BMIN\"] #degrees?\n",
    "bmaj = bmajD * np.pi/180\n",
    "bmin = bminD * np.pi/180 #Convert to radians? The header literally does not have the unit :/\n",
    "beam_in_sr = np.pi*(bmaj/2.0*bmin/2.0)/np.log(2)\n",
    "rFreq = head[\"RESTFRQ\"]\n",
    "wcs = WCS(head)\n",
    "c = 2.99792458e10\n",
    "kb = 1.380658e-16\n",
    "print(wcs)\n",
    "print(np.nanmedian(imdata))"
   ]
  },
  {
   "cell_type": "markdown",
   "metadata": {},
   "source": [
    "This cell does all the moment 2 stuff. VERY INTENSE CALCULATION! Do not run this on a weak computer!"
   ]
  },
  {
   "cell_type": "code",
   "execution_count": 7,
   "metadata": {},
   "outputs": [
    {
     "name": "stdout",
     "output_type": "stream",
     "text": [
      "SpectralCube with shape=(160, 900, 1400) and unit=Jy / beam:\n",
      " n_x:   1400  type_x: RA---ARC  unit_x: deg    range:   148.744223 deg:  149.193015 deg\n",
      " n_y:    900  type_y: DEC--ARC  unit_y: deg    range:    69.635108 deg:   69.734996 deg\n",
      " n_s:    160  type_s: VRAD      unit_s: m / s  range:  -185000.000 m / s:  610000.000 m / s\n"
     ]
    },
    {
     "name": "stderr",
     "output_type": "stream",
     "text": [
      "c:\\Users\\Colton\\AppData\\Local\\Programs\\Python\\Python312\\Lib\\site-packages\\astropy\\stats\\funcs.py:815: RuntimeWarning: All-NaN slice encountered\n",
      "  data_median = func(data, axis=axis)\n",
      "c:\\Users\\Colton\\AppData\\Local\\Programs\\Python\\Python312\\Lib\\site-packages\\astropy\\stats\\funcs.py:821: RuntimeWarning: All-NaN slice encountered\n",
      "  result = func(np.abs(data - data_median), axis=axis, overwrite_input=True)\n",
      "c:\\Users\\Colton\\AppData\\Local\\Programs\\Python\\Python312\\Lib\\site-packages\\astropy\\stats\\funcs.py:815: RuntimeWarning: All-NaN slice encountered\n",
      "  data_median = func(data, axis=axis)\n",
      "c:\\Users\\Colton\\AppData\\Local\\Programs\\Python\\Python312\\Lib\\site-packages\\astropy\\stats\\funcs.py:821: RuntimeWarning: All-NaN slice encountered\n",
      "  result = func(np.abs(data - data_median), axis=axis, overwrite_input=True)\n",
      "c:\\Users\\Colton\\AppData\\Local\\Programs\\Python\\Python312\\Lib\\site-packages\\scipy\\ndimage\\_filters.py:1850: RuntimeWarning: All-NaN slice encountered\n",
      "  _nd_image.generic_filter(input, function, footprint, output, mode,\n"
     ]
    }
   ],
   "source": [
    "from astropy.utils import data\n",
    "\n",
    "from SpectralCubeTools.spectral_cube_tools import characterize\n",
    "\n",
    "testCube = spectral_cube.SpectralCube.read(\"./DataFiles/M82-NOEMA-mask.clean.image.fits\")\n",
    "testCube.allow_huge_operations = True #Heed the warning, the next line will fry your computer.\n",
    "noise = characterize.calc_noise_in_cube(testCube) \n"
   ]
  },
  {
   "cell_type": "code",
   "execution_count": 10,
   "metadata": {},
   "outputs": [],
   "source": [
    "from SpectralCubeTools.spectral_cube_tools import identify_signal\n",
    "\n",
    "maskedCube = identify_signal.find_signal_in_cube(testCube, noise, snr_hi=5) #not nearly as intense as the noise calculation, but its still intensive"
   ]
  },
  {
   "cell_type": "code",
   "execution_count": 11,
   "metadata": {},
   "outputs": [
    {
     "name": "stderr",
     "output_type": "stream",
     "text": [
      "WARNING: VarianceWarning: Note that the second moment returned will be a variance map. To get a linewidth map, use the SpectralCube.linewidth_fwhm() or SpectralCube.linewidth_sigma() methods instead. [spectral_cube.spectral_cube]\n",
      "c:\\Users\\Colton\\AppData\\Local\\Programs\\Python\\Python312\\Lib\\site-packages\\spectral_cube\\_moments.py:87: RuntimeWarning: invalid value encountered in divide\n",
      "  return result / weights\n"
     ]
    },
    {
     "name": "stdout",
     "output_type": "stream",
     "text": [
      "km / s\n"
     ]
    },
    {
     "name": "stderr",
     "output_type": "stream",
     "text": [
      "c:\\Users\\Colton\\AppData\\Local\\Programs\\Python\\Python312\\Lib\\site-packages\\astropy\\units\\quantity.py:671: RuntimeWarning: invalid value encountered in sqrt\n",
      "  result = super().__array_ufunc__(function, method, *arrays, **kwargs)\n"
     ]
    }
   ],
   "source": [
    "m2 = maskedCube.with_spectral_unit(u.km/u.s).moment2() #Creates moment 2 (variance) cube in km^2/s^2\n",
    "m2 = m2**(1/2) #dispersion = sqrt(variance)\n",
    "hdu = m2.hdu\n",
    "hdu.writeto(\"./DataFiles/M82_moment2.fits\", overwrite=True) #Save it"
   ]
  },
  {
   "cell_type": "markdown",
   "metadata": {},
   "source": [
    "The next cells create a moment 0 map"
   ]
  },
  {
   "cell_type": "code",
   "execution_count": 6,
   "metadata": {},
   "outputs": [
    {
     "name": "stdout",
     "output_type": "stream",
     "text": [
      "115270405280.55762\n"
     ]
    }
   ],
   "source": [
    "slices = [[0,0,i] for i in range(160)] \n",
    "pixcord = np.array(slices)\n",
    "world = wcs.wcs_pix2world(pixcord, 1) #Third element is radial velocity\n",
    "rVels = world[:,2]\n",
    "freq = np.mean([rFreq*(1-i/c) for i in rVels]) #Calculate frequencies to use in unit conversion\n",
    "print(freq)\n"
   ]
  },
  {
   "cell_type": "code",
   "execution_count": 7,
   "metadata": {},
   "outputs": [
    {
     "name": "stdout",
     "output_type": "stream",
     "text": [
      "26.709481799729076\n"
     ]
    }
   ],
   "source": [
    "\n",
    "convFactor = c**2/beam_in_sr/1e23/(2*kb*freq**2) #Textbook formula\n",
    "imdata *= convFactor #Converted from Jansky/beam to K "
   ]
  },
  {
   "cell_type": "code",
   "execution_count": 11,
   "metadata": {},
   "outputs": [],
   "source": [
    "#Create spectral cube object. We do it now because it is easier to convert the unit when the cube is a numpy array.\n",
    "cube = spectral_cube.SpectralCube(data = imdata, wcs=wcs) "
   ]
  },
  {
   "cell_type": "code",
   "execution_count": 12,
   "metadata": {},
   "outputs": [],
   "source": [
    "\n",
    "m0 = cube.moment(order=0) #Calculates moment 0 map in K m/s\n",
    "m0 = m0/1000 #convert m/s to km/s\n",
    "hdu = m0.hdu\n",
    "hdu.header[\"BUNIT\"] = \"K km s^-1\" #We did manual unit conversion so we need to update the header.\n",
    "hdu.writeto(\"./DataFiles/M82_moment0.fits\", overwrite=True) #Save the map"
   ]
  },
  {
   "cell_type": "code",
   "execution_count": 13,
   "metadata": {},
   "outputs": [
    {
     "name": "stdout",
     "output_type": "stream",
     "text": [
      "K km s^-1\n"
     ]
    },
    {
     "name": "stderr",
     "output_type": "stream",
     "text": [
      "WARNING: VarianceWarning: Note that the second moment returned will be a variance map. To get a linewidth map, use the SpectralCube.linewidth_fwhm() or SpectralCube.linewidth_sigma() methods instead. [spectral_cube.spectral_cube]\n"
     ]
    }
   ],
   "source": []
  }
 ],
 "metadata": {
  "kernelspec": {
   "display_name": "Python 3",
   "language": "python",
   "name": "python3"
  },
  "language_info": {
   "codemirror_mode": {
    "name": "ipython",
    "version": 3
   },
   "file_extension": ".py",
   "mimetype": "text/x-python",
   "name": "python",
   "nbconvert_exporter": "python",
   "pygments_lexer": "ipython3",
   "version": "3.12.3"
  }
 },
 "nbformat": 4,
 "nbformat_minor": 2
}
